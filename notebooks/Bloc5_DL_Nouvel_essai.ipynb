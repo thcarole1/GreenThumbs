{
 "cells": [
  {
   "cell_type": "markdown",
   "metadata": {
    "id": "wtggzSoGJwCU"
   },
   "source": [
    "![logo lw.png](data:image/png;base64,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)"
   ]
  },
  {
   "cell_type": "markdown",
   "metadata": {
    "id": "fpAtLyFSJv6I"
   },
   "source": [
    "\n",
    "Vous travaillez dans l'équipe data de GreenThumb. Votre mission est d'explorer les données de l'entreprise et de développer un modèle de Deep Learning pour analyser les sentiments des reviews.\n",
    "\n",
    "Consignes :\n",
    "- Répondez aux questions : Remplissez les cellules de code ou de texte lorsque vous voyez *Répondez ici*.\n",
    "\n",
    "- Focus sur les [reviews](https://wagon-public-datasets.s3.amazonaws.com/certification/da-ds-de/reviews.csv) : Concentrez-vous sur l'analyse de sentiment des reviews.\n",
    "\n",
    "- Utilisez le Deep Learning : Développez des modèles de Deep Learning.\n",
    "\n",
    "- Priorité à l'apprentissage correct : Le temps est limité, l'objectif est d'avoir des modèles qui apprennent correctement, pas nécessairement les plus performants."
   ]
  },
  {
   "cell_type": "markdown",
   "metadata": {
    "id": "rNoFIWQeKFaJ"
   },
   "source": [
    "# Exploration de la donnée"
   ]
  },
  {
   "cell_type": "markdown",
   "metadata": {
    "id": "bR4S1b2aKn3H"
   },
   "source": [
    "Nous allons nous concentrer sur le **[reviews_df](https://wagon-public-datasets.s3.amazonaws.com/certification/da-ds-de/reviews.csv)**.\n",
    "\n",
    "Exectuez la cellule ci-dessous pour récupérer la donnée."
   ]
  },
  {
   "cell_type": "code",
   "execution_count": 1,
   "metadata": {
    "id": "1IdZhLuOKnXv"
   },
   "outputs": [],
   "source": [
    "import pandas as pd\n",
    "\n",
    "reviews_df = pd.read_csv(\"https://wagon-public-datasets.s3.amazonaws.com/certification/da-ds-de/reviews.csv\")"
   ]
  },
  {
   "cell_type": "code",
   "execution_count": 2,
   "metadata": {
    "colab": {
     "base_uri": "https://localhost:8080/",
     "height": 206
    },
    "id": "UzvljZ2emdIM",
    "outputId": "5c4032c8-b745-4b92-fa38-8eb18b18c28c"
   },
   "outputs": [
    {
     "data": {
      "text/html": [
       "<div>\n",
       "<style scoped>\n",
       "    .dataframe tbody tr th:only-of-type {\n",
       "        vertical-align: middle;\n",
       "    }\n",
       "\n",
       "    .dataframe tbody tr th {\n",
       "        vertical-align: top;\n",
       "    }\n",
       "\n",
       "    .dataframe thead th {\n",
       "        text-align: right;\n",
       "    }\n",
       "</style>\n",
       "<table border=\"1\" class=\"dataframe\">\n",
       "  <thead>\n",
       "    <tr style=\"text-align: right;\">\n",
       "      <th></th>\n",
       "      <th>ReviewID</th>\n",
       "      <th>ReviewScore</th>\n",
       "      <th>ReviewText</th>\n",
       "      <th>OrderID</th>\n",
       "    </tr>\n",
       "  </thead>\n",
       "  <tbody>\n",
       "    <tr>\n",
       "      <th>0</th>\n",
       "      <td>1</td>\n",
       "      <td>5</td>\n",
       "      <td>NaN</td>\n",
       "      <td>501210</td>\n",
       "    </tr>\n",
       "    <tr>\n",
       "      <th>1</th>\n",
       "      <td>1</td>\n",
       "      <td>4</td>\n",
       "      <td>NaN</td>\n",
       "      <td>669676</td>\n",
       "    </tr>\n",
       "    <tr>\n",
       "      <th>2</th>\n",
       "      <td>1</td>\n",
       "      <td>5</td>\n",
       "      <td>NaN</td>\n",
       "      <td>800210</td>\n",
       "    </tr>\n",
       "    <tr>\n",
       "      <th>3</th>\n",
       "      <td>1</td>\n",
       "      <td>5</td>\n",
       "      <td>NaN</td>\n",
       "      <td>228723</td>\n",
       "    </tr>\n",
       "    <tr>\n",
       "      <th>4</th>\n",
       "      <td>1</td>\n",
       "      <td>5</td>\n",
       "      <td>NaN</td>\n",
       "      <td>573604</td>\n",
       "    </tr>\n",
       "  </tbody>\n",
       "</table>\n",
       "</div>"
      ],
      "text/plain": [
       "   ReviewID  ReviewScore ReviewText  OrderID\n",
       "0         1            5        NaN   501210\n",
       "1         1            4        NaN   669676\n",
       "2         1            5        NaN   800210\n",
       "3         1            5        NaN   228723\n",
       "4         1            5        NaN   573604"
      ]
     },
     "execution_count": 2,
     "metadata": {},
     "output_type": "execute_result"
    }
   ],
   "source": [
    "reviews_df.head()"
   ]
  },
  {
   "cell_type": "code",
   "execution_count": 3,
   "metadata": {
    "colab": {
     "base_uri": "https://localhost:8080/"
    },
    "id": "-XiN9FWlmghU",
    "outputId": "51f4aeab-1963-4b6d-ae53-ed8e684a9f93"
   },
   "outputs": [
    {
     "data": {
      "text/plain": [
       "(485055, 4)"
      ]
     },
     "execution_count": 3,
     "metadata": {},
     "output_type": "execute_result"
    }
   ],
   "source": [
    "reviews_df.shape"
   ]
  },
  {
   "cell_type": "markdown",
   "metadata": {
    "id": "GhL5Wx4lK0y_"
   },
   "source": [
    "1 / Supprimez toutes les lignes avec des valeurs manquantes et toutes les lignes en double."
   ]
  },
  {
   "cell_type": "markdown",
   "metadata": {
    "id": "OVd-g0zRormU"
   },
   "source": [
    "Check missing values"
   ]
  },
  {
   "cell_type": "code",
   "execution_count": 4,
   "metadata": {
    "colab": {
     "base_uri": "https://localhost:8080/",
     "height": 209
    },
    "id": "7NeF8doJLk29",
    "outputId": "36d9c288-7d66-4a39-88e1-aaef7064984c"
   },
   "outputs": [
    {
     "data": {
      "text/plain": [
       "ReviewText     475705\n",
       "ReviewID            0\n",
       "ReviewScore         0\n",
       "OrderID             0\n",
       "dtype: int64"
      ]
     },
     "execution_count": 4,
     "metadata": {},
     "output_type": "execute_result"
    }
   ],
   "source": [
    "reviews_df.isnull().sum().sort_values(ascending=False)"
   ]
  },
  {
   "cell_type": "code",
   "execution_count": 5,
   "metadata": {
    "colab": {
     "base_uri": "https://localhost:8080/",
     "height": 224
    },
    "id": "6j_9b3ZaoW0J",
    "outputId": "b14a46ee-b328-4efa-a5e4-ca9c61cd0b0d"
   },
   "outputs": [
    {
     "name": "stdout",
     "output_type": "stream",
     "text": [
      "(9350, 4)\n"
     ]
    },
    {
     "data": {
      "text/html": [
       "<div>\n",
       "<style scoped>\n",
       "    .dataframe tbody tr th:only-of-type {\n",
       "        vertical-align: middle;\n",
       "    }\n",
       "\n",
       "    .dataframe tbody tr th {\n",
       "        vertical-align: top;\n",
       "    }\n",
       "\n",
       "    .dataframe thead th {\n",
       "        text-align: right;\n",
       "    }\n",
       "</style>\n",
       "<table border=\"1\" class=\"dataframe\">\n",
       "  <thead>\n",
       "    <tr style=\"text-align: right;\">\n",
       "      <th></th>\n",
       "      <th>ReviewID</th>\n",
       "      <th>ReviewScore</th>\n",
       "      <th>ReviewText</th>\n",
       "      <th>OrderID</th>\n",
       "    </tr>\n",
       "  </thead>\n",
       "  <tbody>\n",
       "    <tr>\n",
       "      <th>8</th>\n",
       "      <td>1</td>\n",
       "      <td>4</td>\n",
       "      <td>Product came As expected, timely and well-pack...</td>\n",
       "      <td>814344</td>\n",
       "    </tr>\n",
       "    <tr>\n",
       "      <th>31</th>\n",
       "      <td>1</td>\n",
       "      <td>5</td>\n",
       "      <td>Indoor Sweet-scented Or Creating Perfect outdo...</td>\n",
       "      <td>501052</td>\n",
       "    </tr>\n",
       "    <tr>\n",
       "      <th>69</th>\n",
       "      <td>1</td>\n",
       "      <td>4</td>\n",
       "      <td>Efficient delivery, item matches the online de...</td>\n",
       "      <td>824173</td>\n",
       "    </tr>\n",
       "    <tr>\n",
       "      <th>87</th>\n",
       "      <td>1</td>\n",
       "      <td>4</td>\n",
       "      <td>ITEM ARRIVED ON TIME AND AS DESCRIBED.</td>\n",
       "      <td>8078</td>\n",
       "    </tr>\n",
       "    <tr>\n",
       "      <th>140</th>\n",
       "      <td>1</td>\n",
       "      <td>4</td>\n",
       "      <td>Satisfactory experience, would recommend to ot...</td>\n",
       "      <td>376448</td>\n",
       "    </tr>\n",
       "  </tbody>\n",
       "</table>\n",
       "</div>"
      ],
      "text/plain": [
       "     ReviewID  ReviewScore                                         ReviewText  \\\n",
       "8           1            4  Product came As expected, timely and well-pack...   \n",
       "31          1            5  Indoor Sweet-scented Or Creating Perfect outdo...   \n",
       "69          1            4  Efficient delivery, item matches the online de...   \n",
       "87          1            4             ITEM ARRIVED ON TIME AND AS DESCRIBED.   \n",
       "140         1            4  Satisfactory experience, would recommend to ot...   \n",
       "\n",
       "     OrderID  \n",
       "8     814344  \n",
       "31    501052  \n",
       "69    824173  \n",
       "87      8078  \n",
       "140   376448  "
      ]
     },
     "execution_count": 5,
     "metadata": {},
     "output_type": "execute_result"
    }
   ],
   "source": [
    "reviews_df = reviews_df.dropna()\n",
    "print(reviews_df.shape)\n",
    "reviews_df.head()"
   ]
  },
  {
   "cell_type": "markdown",
   "metadata": {
    "id": "4h_huo0DoyMP"
   },
   "source": [
    "Check duplicates"
   ]
  },
  {
   "cell_type": "code",
   "execution_count": 6,
   "metadata": {
    "colab": {
     "base_uri": "https://localhost:8080/"
    },
    "id": "WY92cMUko2tg",
    "outputId": "c03e9454-fbdd-4b74-e2c5-2272be8b2403"
   },
   "outputs": [
    {
     "data": {
      "text/plain": [
       "104"
      ]
     },
     "execution_count": 6,
     "metadata": {},
     "output_type": "execute_result"
    }
   ],
   "source": [
    "reviews_df.duplicated().sum()"
   ]
  },
  {
   "cell_type": "code",
   "execution_count": 7,
   "metadata": {
    "colab": {
     "base_uri": "https://localhost:8080/",
     "height": 224
    },
    "id": "PKlV-L2mo-Cf",
    "outputId": "ae7a5601-4856-43f2-9b5e-9d592447e0cd"
   },
   "outputs": [
    {
     "name": "stdout",
     "output_type": "stream",
     "text": [
      "(9246, 4)\n"
     ]
    },
    {
     "data": {
      "text/html": [
       "<div>\n",
       "<style scoped>\n",
       "    .dataframe tbody tr th:only-of-type {\n",
       "        vertical-align: middle;\n",
       "    }\n",
       "\n",
       "    .dataframe tbody tr th {\n",
       "        vertical-align: top;\n",
       "    }\n",
       "\n",
       "    .dataframe thead th {\n",
       "        text-align: right;\n",
       "    }\n",
       "</style>\n",
       "<table border=\"1\" class=\"dataframe\">\n",
       "  <thead>\n",
       "    <tr style=\"text-align: right;\">\n",
       "      <th></th>\n",
       "      <th>ReviewID</th>\n",
       "      <th>ReviewScore</th>\n",
       "      <th>ReviewText</th>\n",
       "      <th>OrderID</th>\n",
       "    </tr>\n",
       "  </thead>\n",
       "  <tbody>\n",
       "    <tr>\n",
       "      <th>8</th>\n",
       "      <td>1</td>\n",
       "      <td>4</td>\n",
       "      <td>Product came As expected, timely and well-pack...</td>\n",
       "      <td>814344</td>\n",
       "    </tr>\n",
       "    <tr>\n",
       "      <th>31</th>\n",
       "      <td>1</td>\n",
       "      <td>5</td>\n",
       "      <td>Indoor Sweet-scented Or Creating Perfect outdo...</td>\n",
       "      <td>501052</td>\n",
       "    </tr>\n",
       "    <tr>\n",
       "      <th>69</th>\n",
       "      <td>1</td>\n",
       "      <td>4</td>\n",
       "      <td>Efficient delivery, item matches the online de...</td>\n",
       "      <td>824173</td>\n",
       "    </tr>\n",
       "    <tr>\n",
       "      <th>87</th>\n",
       "      <td>1</td>\n",
       "      <td>4</td>\n",
       "      <td>ITEM ARRIVED ON TIME AND AS DESCRIBED.</td>\n",
       "      <td>8078</td>\n",
       "    </tr>\n",
       "    <tr>\n",
       "      <th>140</th>\n",
       "      <td>1</td>\n",
       "      <td>4</td>\n",
       "      <td>Satisfactory experience, would recommend to ot...</td>\n",
       "      <td>376448</td>\n",
       "    </tr>\n",
       "  </tbody>\n",
       "</table>\n",
       "</div>"
      ],
      "text/plain": [
       "     ReviewID  ReviewScore                                         ReviewText  \\\n",
       "8           1            4  Product came As expected, timely and well-pack...   \n",
       "31          1            5  Indoor Sweet-scented Or Creating Perfect outdo...   \n",
       "69          1            4  Efficient delivery, item matches the online de...   \n",
       "87          1            4             ITEM ARRIVED ON TIME AND AS DESCRIBED.   \n",
       "140         1            4  Satisfactory experience, would recommend to ot...   \n",
       "\n",
       "     OrderID  \n",
       "8     814344  \n",
       "31    501052  \n",
       "69    824173  \n",
       "87      8078  \n",
       "140   376448  "
      ]
     },
     "execution_count": 7,
     "metadata": {},
     "output_type": "execute_result"
    }
   ],
   "source": [
    "reviews_df = reviews_df.drop_duplicates()\n",
    "print(reviews_df.shape)\n",
    "reviews_df.head()"
   ]
  },
  {
   "cell_type": "markdown",
   "metadata": {
    "id": "qgiSxMRSLq5x"
   },
   "source": [
    "2 / Utilisez la librairie de votre choix pour créer un graphique montrant la répartition des **ReviewScore**."
   ]
  },
  {
   "cell_type": "code",
   "execution_count": 8,
   "metadata": {
    "colab": {
     "base_uri": "https://localhost:8080/",
     "height": 485
    },
    "id": "TaYkRyzUo1hp",
    "outputId": "a592d007-a106-4ab1-f94d-c300abb978fd"
   },
   "outputs": [
    {
     "data": {
      "text/plain": [
       "<AxesSubplot:title={'center':'ReviewScore repartition'}>"
      ]
     },
     "execution_count": 8,
     "metadata": {},
     "output_type": "execute_result"
    },
    {
     "data": {
      "image/png": "[encoded data removed]",
      "text/plain": [
       "<Figure size 640x480 with 1 Axes>"
      ]
     },
     "metadata": {},
     "output_type": "display_data"
    }
   ],
   "source": [
    "reviews_df['ReviewScore'].value_counts().plot(kind='bar', title='ReviewScore repartition')\n"
   ]
  },
  {
   "cell_type": "markdown",
   "metadata": {
    "id": "8Th9Ba6ZLQG5"
   },
   "source": [
    "# Préparation de la donnée"
   ]
  },
  {
   "cell_type": "markdown",
   "metadata": {
    "id": "7goJVWvbMlqf"
   },
   "source": [
    "3 / Créez votre feature X comprenant la colonne **ReviewText** et votre y comprenant la colonne **ReviewScore**."
   ]
  },
  {
   "cell_type": "code",
   "execution_count": 9,
   "metadata": {
    "colab": {
     "base_uri": "https://localhost:8080/",
     "height": 259
    },
    "id": "XjZzB0SuqKGY",
    "outputId": "70a5e19d-5f8c-4976-d2ba-9ea763eda9e3",
    "scrolled": true
   },
   "outputs": [
    {
     "name": "stdout",
     "output_type": "stream",
     "text": [
      "(9246, 1)\n"
     ]
    },
    {
     "data": {
      "text/html": [
       "<div>\n",
       "<style scoped>\n",
       "    .dataframe tbody tr th:only-of-type {\n",
       "        vertical-align: middle;\n",
       "    }\n",
       "\n",
       "    .dataframe tbody tr th {\n",
       "        vertical-align: top;\n",
       "    }\n",
       "\n",
       "    .dataframe thead th {\n",
       "        text-align: right;\n",
       "    }\n",
       "</style>\n",
       "<table border=\"1\" class=\"dataframe\">\n",
       "  <thead>\n",
       "    <tr style=\"text-align: right;\">\n",
       "      <th></th>\n",
       "      <th>ReviewText</th>\n",
       "    </tr>\n",
       "  </thead>\n",
       "  <tbody>\n",
       "    <tr>\n",
       "      <th>8</th>\n",
       "      <td>Product came As expected, timely and well-pack...</td>\n",
       "    </tr>\n",
       "    <tr>\n",
       "      <th>31</th>\n",
       "      <td>Indoor Sweet-scented Or Creating Perfect outdo...</td>\n",
       "    </tr>\n",
       "    <tr>\n",
       "      <th>69</th>\n",
       "      <td>Efficient delivery, item matches the online de...</td>\n",
       "    </tr>\n",
       "    <tr>\n",
       "      <th>87</th>\n",
       "      <td>ITEM ARRIVED ON TIME AND AS DESCRIBED.</td>\n",
       "    </tr>\n",
       "    <tr>\n",
       "      <th>140</th>\n",
       "      <td>Satisfactory experience, would recommend to ot...</td>\n",
       "    </tr>\n",
       "  </tbody>\n",
       "</table>\n",
       "</div>"
      ],
      "text/plain": [
       "                                            ReviewText\n",
       "8    Product came As expected, timely and well-pack...\n",
       "31   Indoor Sweet-scented Or Creating Perfect outdo...\n",
       "69   Efficient delivery, item matches the online de...\n",
       "87              ITEM ARRIVED ON TIME AND AS DESCRIBED.\n",
       "140  Satisfactory experience, would recommend to ot..."
      ]
     },
     "execution_count": 9,
     "metadata": {},
     "output_type": "execute_result"
    }
   ],
   "source": [
    "X = reviews_df[['ReviewText']]\n",
    "print(X.shape)\n",
    "X.head()"
   ]
  },
  {
   "cell_type": "code",
   "execution_count": 10,
   "metadata": {
    "colab": {
     "base_uri": "https://localhost:8080/",
     "height": 259
    },
    "id": "B9uGbTEzMkCZ",
    "outputId": "b164d764-2a92-4393-c239-ddf6d36edf7c"
   },
   "outputs": [
    {
     "name": "stdout",
     "output_type": "stream",
     "text": [
      "(9246,)\n"
     ]
    },
    {
     "data": {
      "text/plain": [
       "8      4\n",
       "31     5\n",
       "69     4\n",
       "87     4\n",
       "140    4\n",
       "Name: ReviewScore, dtype: int64"
      ]
     },
     "execution_count": 10,
     "metadata": {},
     "output_type": "execute_result"
    }
   ],
   "source": [
    "y = reviews_df['ReviewScore']\n",
    "print(y.shape)\n",
    "y.head()\n"
   ]
  },
  {
   "cell_type": "code",
   "execution_count": 11,
   "metadata": {},
   "outputs": [
    {
     "data": {
      "text/plain": [
       "pandas.core.series.Series"
      ]
     },
     "execution_count": 11,
     "metadata": {},
     "output_type": "execute_result"
    }
   ],
   "source": [
    "type(y)\n"
   ]
  },
  {
   "cell_type": "markdown",
   "metadata": {
    "id": "7RAeN7SiMz41"
   },
   "source": [
    "4 / Transformez la target en utilisant les correspondances suivantes :\n",
    "- 1 => 0\n",
    "- 2 => 0\n",
    "- 3 => 0\n",
    "- 4 => 1\n",
    "- 5 => 1"
   ]
  },
  {
   "cell_type": "code",
   "execution_count": 12,
   "metadata": {
    "colab": {
     "base_uri": "https://localhost:8080/",
     "height": 178
    },
    "id": "436giZCdL-NI",
    "outputId": "ebeb777d-8c8b-46c5-e8ed-5331b1ebbe02"
   },
   "outputs": [
    {
     "data": {
      "text/plain": [
       "1    65.585118\n",
       "0    34.414882\n",
       "Name: ReviewScore, dtype: float64"
      ]
     },
     "execution_count": 12,
     "metadata": {},
     "output_type": "execute_result"
    }
   ],
   "source": [
    "def transform(s):\n",
    "  if s in range(1,4):\n",
    "    s = 0\n",
    "  if s in range(4,6):\n",
    "    s = 1\n",
    "  return s\n",
    "\n",
    "y  = y.apply(transform)\n",
    "y.value_counts()/len(y)*100"
   ]
  },
  {
   "cell_type": "markdown",
   "metadata": {
    "id": "OeU8s6YKNJd1"
   },
   "source": [
    "5 / Utilisez la méthode de hold-out pour ne garder que 20% de la donnée pour le test."
   ]
  },
  {
   "cell_type": "code",
   "execution_count": 13,
   "metadata": {
    "colab": {
     "base_uri": "https://localhost:8080/"
    },
    "id": "KvGoo-awL9xE",
    "outputId": "1b25fd89-0641-4ddc-f7b4-b4c3819dd9ed"
   },
   "outputs": [
    {
     "name": "stdout",
     "output_type": "stream",
     "text": [
      "Shape of X_train : (7396, 1)\n",
      "Shape of y_train : (7396,)\n",
      "Shape of X_test : (1850, 1)\n",
      "Shape of y_test : (1850,)\n"
     ]
    }
   ],
   "source": [
    "from sklearn.model_selection import train_test_split\n",
    "X_train, X_test, y_train, y_test = train_test_split(X, y, test_size=0.2, random_state=42)\n",
    "\n",
    "print(f\"Shape of X_train : {X_train.shape}\")\n",
    "print(f\"Shape of y_train : {y_train.shape}\")\n",
    "\n",
    "print(f\"Shape of X_test : {X_test.shape}\")\n",
    "print(f\"Shape of y_test : {y_test.shape}\")\n"
   ]
  },
  {
   "cell_type": "markdown",
   "metadata": {
    "id": "yzMSQ1mvNS45"
   },
   "source": [
    "6 / Appliquez sur le X_train toutes les méthodes de transformations de la donnée que vous connaissez et qui vous paraissent pertinentes."
   ]
  },
  {
   "cell_type": "code",
   "execution_count": 14,
   "metadata": {},
   "outputs": [
    {
     "data": {
      "text/html": [
       "<div>\n",
       "<style scoped>\n",
       "    .dataframe tbody tr th:only-of-type {\n",
       "        vertical-align: middle;\n",
       "    }\n",
       "\n",
       "    .dataframe tbody tr th {\n",
       "        vertical-align: top;\n",
       "    }\n",
       "\n",
       "    .dataframe thead th {\n",
       "        text-align: right;\n",
       "    }\n",
       "</style>\n",
       "<table border=\"1\" class=\"dataframe\">\n",
       "  <thead>\n",
       "    <tr style=\"text-align: right;\">\n",
       "      <th></th>\n",
       "      <th>ReviewText</th>\n",
       "      <th>ReviewText_cleaned</th>\n",
       "    </tr>\n",
       "  </thead>\n",
       "  <tbody>\n",
       "    <tr>\n",
       "      <th>432716</th>\n",
       "      <td>Pleased With vera their Care. plants, Easy Ben...</td>\n",
       "      <td>pleased with vera their care plant easy benefi...</td>\n",
       "    </tr>\n",
       "    <tr>\n",
       "      <th>279725</th>\n",
       "      <td>Product Performs Well For its Intended use.</td>\n",
       "      <td>product performs well for it intended use</td>\n",
       "    </tr>\n",
       "    <tr>\n",
       "      <th>360369</th>\n",
       "      <td>Couldn't be happier with of or natural collect...</td>\n",
       "      <td>couldnt be happier with of or natural collecti...</td>\n",
       "    </tr>\n",
       "    <tr>\n",
       "      <th>333799</th>\n",
       "      <td>Expected a lot more from collection for screen...</td>\n",
       "      <td>expected a lot more from collection for screen...</td>\n",
       "    </tr>\n",
       "    <tr>\n",
       "      <th>34641</th>\n",
       "      <td>PLEASANTLY SURPRISED WITH THE QUALITY AT THIS ...</td>\n",
       "      <td>pleasantly surprised with the quality at this ...</td>\n",
       "    </tr>\n",
       "  </tbody>\n",
       "</table>\n",
       "</div>"
      ],
      "text/plain": [
       "                                               ReviewText  \\\n",
       "432716  Pleased With vera their Care. plants, Easy Ben...   \n",
       "279725        Product Performs Well For its Intended use.   \n",
       "360369  Couldn't be happier with of or natural collect...   \n",
       "333799  Expected a lot more from collection for screen...   \n",
       "34641   PLEASANTLY SURPRISED WITH THE QUALITY AT THIS ...   \n",
       "\n",
       "                                       ReviewText_cleaned  \n",
       "432716  pleased with vera their care plant easy benefi...  \n",
       "279725          product performs well for it intended use  \n",
       "360369  couldnt be happier with of or natural collecti...  \n",
       "333799  expected a lot more from collection for screen...  \n",
       "34641   pleasantly surprised with the quality at this ...  "
      ]
     },
     "execution_count": 14,
     "metadata": {},
     "output_type": "execute_result"
    }
   ],
   "source": [
    "import string\n",
    "from nltk.corpus import stopwords \n",
    "from nltk import word_tokenize\n",
    "from nltk.stem import WordNetLemmatizer\n",
    "\n",
    "def preprocessing(sentence):\n",
    "    # Removing whitespaces\n",
    "    sentence = sentence.strip()\n",
    "    \n",
    "    # Lowercasing\n",
    "    sentence = sentence.lower()\n",
    "    \n",
    "    # Removing numbers\n",
    "    sentence = ''.join(char for char in sentence if not char.isdigit())\n",
    "    \n",
    "    # Removing punctuation\n",
    "    for punctuation in string.punctuation:\n",
    "        sentence = sentence.replace(punctuation, '')\n",
    "        \n",
    "    # Tokenizing\n",
    "    tokenized = word_tokenize(sentence)\n",
    "    \n",
    "    # Lemmatizing\n",
    "    lemmatizer = WordNetLemmatizer()\n",
    "    lemmatized = [lemmatizer.lemmatize(word) for word in tokenized]\n",
    "    cleaned_sentence = \" \".join(lemmatized)\n",
    "    \n",
    "    return cleaned_sentence\n",
    "\n",
    "X_train['ReviewText_cleaned'] = X_train['ReviewText'].apply(preprocessing)\n",
    "\n",
    "X_train.head()"
   ]
  },
  {
   "cell_type": "markdown",
   "metadata": {
    "id": "lK8IZdE2RqoM"
   },
   "source": [
    "7 / Appliquez sur le X_test les mêmes transformations en les ajustant si nécessaire."
   ]
  },
  {
   "cell_type": "code",
   "execution_count": 15,
   "metadata": {},
   "outputs": [
    {
     "data": {
      "text/html": [
       "<div>\n",
       "<style scoped>\n",
       "    .dataframe tbody tr th:only-of-type {\n",
       "        vertical-align: middle;\n",
       "    }\n",
       "\n",
       "    .dataframe tbody tr th {\n",
       "        vertical-align: top;\n",
       "    }\n",
       "\n",
       "    .dataframe thead th {\n",
       "        text-align: right;\n",
       "    }\n",
       "</style>\n",
       "<table border=\"1\" class=\"dataframe\">\n",
       "  <thead>\n",
       "    <tr style=\"text-align: right;\">\n",
       "      <th></th>\n",
       "      <th>ReviewText</th>\n",
       "      <th>ReviewText_cleaned</th>\n",
       "    </tr>\n",
       "  </thead>\n",
       "  <tbody>\n",
       "    <tr>\n",
       "      <th>331459</th>\n",
       "      <td>item arrived on time and as described.</td>\n",
       "      <td>item arrived on time and a described</td>\n",
       "    </tr>\n",
       "    <tr>\n",
       "      <th>303752</th>\n",
       "      <td>MEETS THE REQUIREMENTS, NO COMPLAINTS SO FAR.</td>\n",
       "      <td>meet the requirement no complaint so far</td>\n",
       "    </tr>\n",
       "    <tr>\n",
       "      <th>407891</th>\n",
       "      <td>Amazing Product, Goes Above And beyond.</td>\n",
       "      <td>amazing product go above and beyond</td>\n",
       "    </tr>\n",
       "    <tr>\n",
       "      <th>241700</th>\n",
       "      <td>Customer service was helpful and responsive.</td>\n",
       "      <td>customer service wa helpful and responsive</td>\n",
       "    </tr>\n",
       "    <tr>\n",
       "      <th>208061</th>\n",
       "      <td>absolutely in love with outdoor for jasmine sw...</td>\n",
       "      <td>absolutely in love with outdoor for jasmine sw...</td>\n",
       "    </tr>\n",
       "  </tbody>\n",
       "</table>\n",
       "</div>"
      ],
      "text/plain": [
       "                                               ReviewText  \\\n",
       "331459             item arrived on time and as described.   \n",
       "303752      MEETS THE REQUIREMENTS, NO COMPLAINTS SO FAR.   \n",
       "407891            Amazing Product, Goes Above And beyond.   \n",
       "241700       Customer service was helpful and responsive.   \n",
       "208061  absolutely in love with outdoor for jasmine sw...   \n",
       "\n",
       "                                       ReviewText_cleaned  \n",
       "331459               item arrived on time and a described  \n",
       "303752           meet the requirement no complaint so far  \n",
       "407891                amazing product go above and beyond  \n",
       "241700         customer service wa helpful and responsive  \n",
       "208061  absolutely in love with outdoor for jasmine sw...  "
      ]
     },
     "execution_count": 15,
     "metadata": {},
     "output_type": "execute_result"
    }
   ],
   "source": [
    "X_test['ReviewText_cleaned'] = X_test['ReviewText'].apply(preprocessing)\n",
    "X_test.head()"
   ]
  },
  {
   "cell_type": "markdown",
   "metadata": {
    "id": "jCYJtsVCLnbi"
   },
   "source": [
    "# Baseline"
   ]
  },
  {
   "cell_type": "markdown",
   "metadata": {
    "id": "nEh167ECNV22"
   },
   "source": [
    "8 / Vous voulez prédire la note à partir du commentaire.\n",
    "\n",
    "- Quel type de tâche est-ce ?\n",
    "\n",
    "- Quelle métrique est appropriée pour ce type de tâche et pourquoi ?"
   ]
  },
  {
   "cell_type": "markdown",
   "metadata": {
    "id": "RhWHrNbsMpsR"
   },
   "source": [
    "This is a classification task.\n",
    "We could use accuracy as metric as we want the model to be predict correctly (positive and negative reviews). \n"
   ]
  },
  {
   "cell_type": "markdown",
   "metadata": {
    "id": "OAGhj1Z9Nzel"
   },
   "source": [
    "9 / Calculez un score de baseline."
   ]
  },
  {
   "cell_type": "code",
   "execution_count": 16,
   "metadata": {},
   "outputs": [
    {
     "name": "stdout",
     "output_type": "stream",
     "text": [
      "average accuracy for Naive Bayes model : 0.7769048751051457\n"
     ]
    }
   ],
   "source": [
    "import numpy as np\n",
    "from sklearn.model_selection import cross_validate\n",
    "from sklearn.pipeline import make_pipeline\n",
    "from sklearn.feature_extraction.text import TfidfVectorizer\n",
    "from sklearn.naive_bayes import MultinomialNB\n",
    "\n",
    "# Pipeline vectorizer + Naive Bayes\n",
    "pipeline_naive_bayes = make_pipeline(\n",
    "    TfidfVectorizer(),\n",
    "    MultinomialNB()\n",
    ")\n",
    "\n",
    "# Cross-validation\n",
    "cv_results = cross_validate(pipeline_naive_bayes, \n",
    "                            X_train['ReviewText_cleaned'], \n",
    "                            y_train, \n",
    "                            cv = 10, \n",
    "                            scoring = [\"accuracy\"])\n",
    "\n",
    "NB_metric = cv_results[\"test_accuracy\"].mean()\n",
    "# NB_metric = np.round(NB_metric,2)\n",
    "print(f\"average accuracy for Naive Bayes model : {NB_metric}\")\n"
   ]
  },
  {
   "cell_type": "markdown",
   "metadata": {
    "id": "TzbJuQAGLqXl"
   },
   "source": [
    "# Votre architecture de RNN"
   ]
  },
  {
   "cell_type": "markdown",
   "metadata": {
    "id": "IFlHj9S0ywJZ"
   },
   "source": [
    "Executez le code ci-dessous pour tokenizer et padder la donnée."
   ]
  },
  {
   "cell_type": "code",
   "execution_count": 17,
   "metadata": {},
   "outputs": [
    {
     "data": {
      "text/plain": [
       "344"
      ]
     },
     "execution_count": 17,
     "metadata": {},
     "output_type": "execute_result"
    }
   ],
   "source": [
    "from tensorflow.keras.preprocessing.text import Tokenizer\n",
    "\n",
    "tk = Tokenizer()\n",
    "tk.fit_on_texts(X_train['ReviewText_cleaned'])\n",
    "\n",
    "X_train_tokens = tk.texts_to_sequences(X_train['ReviewText_cleaned'])\n",
    "X_test_tokens = tk.texts_to_sequences(X_test['ReviewText_cleaned'])\n",
    "\n",
    "# Vocab size?\n",
    "vocab_size = len(tk.word_index)\n",
    "vocab_size\n"
   ]
  },
  {
   "cell_type": "code",
   "execution_count": 18,
   "metadata": {},
   "outputs": [
    {
     "name": "stdout",
     "output_type": "stream",
     "text": [
      "7396\n",
      "1850\n"
     ]
    }
   ],
   "source": [
    "print(len(X_train_tokens))\n",
    "print(len(X_test_tokens))"
   ]
  },
  {
   "cell_type": "code",
   "execution_count": 19,
   "metadata": {},
   "outputs": [
    {
     "data": {
      "image/png": "[encoded data removed]",
      "text/plain": [
       "<Figure size 640x480 with 1 Axes>"
      ]
     },
     "metadata": {},
     "output_type": "display_data"
    }
   ],
   "source": [
    "import seaborn as sns\n",
    "sns.histplot([len(x) for x in X_train_tokens]);"
   ]
  },
  {
   "cell_type": "code",
   "execution_count": 20,
   "metadata": {},
   "outputs": [],
   "source": [
    "from tensorflow.keras.preprocessing.sequence import pad_sequences\n",
    "maxlen = 30\n",
    "X_train_pad = pad_sequences(X_train_tokens, dtype=float, padding='post', maxlen= maxlen)\n",
    "X_test_pad = pad_sequences(X_test_tokens, dtype=float, padding='post', maxlen= maxlen)"
   ]
  },
  {
   "cell_type": "code",
   "execution_count": 21,
   "metadata": {},
   "outputs": [
    {
     "name": "stdout",
     "output_type": "stream",
     "text": [
      "(7396, 30)\n",
      "(1850, 30)\n"
     ]
    }
   ],
   "source": [
    "print(X_train_pad.shape)\n",
    "print(X_test_pad.shape)"
   ]
  },
  {
   "cell_type": "markdown",
   "metadata": {
    "id": "vK1Bz-fyRgix"
   },
   "source": [
    "10 / Créez une architecture de RNN pour accomplir cette tâche et entraînez le modèle. Veillez à prendre des mesures pour éviter l'overfitting."
   ]
  },
  {
   "cell_type": "code",
   "execution_count": 22,
   "metadata": {},
   "outputs": [],
   "source": [
    "import matplotlib.pyplot as plt\n",
    "\n",
    "\n",
    "# VISUALIZATION\n",
    "def plot_loss_accuracy(history, title=None):\n",
    "    fig, ax = plt.subplots(1,2, figsize=(20,7))\n",
    "\n",
    "    # --- LOSS --- \n",
    "\n",
    "    ax[0].plot(history.history['loss'])\n",
    "    ax[0].plot(history.history['val_loss'])\n",
    "\n",
    "    ax[0].set_title('Model loss')\n",
    "    ax[0].set_ylabel('Loss')\n",
    "    ax[0].set_xlabel('Epoch')\n",
    "\n",
    "    ax[0].set_ylim((0,1))\n",
    "    \n",
    "    ax[0].legend(['Train', 'Test'], loc='best')\n",
    "\n",
    "    ax[0].grid(axis=\"x\",linewidth=0.5)\n",
    "    ax[0].grid(axis=\"y\",linewidth=0.5)\n",
    "\n",
    "    # --- ACCURACY\n",
    "\n",
    "    ax[1].plot(history.history['accuracy'])\n",
    "    ax[1].plot(history.history['val_accuracy'])\n",
    "\n",
    "    ax[1].set_title('Model Accuracy')\n",
    "    ax[1].set_ylabel('Accuracy')\n",
    "    ax[1].set_xlabel('Epoch')\n",
    "\n",
    "    ax[1].legend(['Train', 'Test'], loc='best')\n",
    "\n",
    "    ax[1].set_ylim((0.7,0.9))\n",
    "\n",
    "    ax[1].grid(axis=\"x\",linewidth=0.5)\n",
    "    ax[1].grid(axis=\"y\",linewidth=0.5)\n",
    "\n",
    "    if title:\n",
    "        fig.suptitle(title) "
   ]
  },
  {
   "cell_type": "code",
   "execution_count": 23,
   "metadata": {},
   "outputs": [],
   "source": [
    "from tensorflow.keras import layers, Sequential\n",
    "from tensorflow.keras.optimizers import Adam\n",
    "\n",
    "embedding_size = 50\n",
    "\n",
    "def initialize_model_RNN():\n",
    "    model = Sequential()\n",
    "    model.add(layers.Embedding( input_dim = vocab_size+1,\n",
    "                                output_dim = embedding_size,\n",
    "                                mask_zero=True,))\n",
    "    model.add(layers.LSTM(units = 20, activation='tanh'))\n",
    "    model.add(layers.Dense(15, activation='relu'))\n",
    "    model.add(layers.Dense(1, activation='sigmoid'))\n",
    "    \n",
    "    # compile\n",
    "    model.compile(loss='binary_crossentropy',\n",
    "                  optimizer='rmsprop',\n",
    "                  metrics=['accuracy'])\n",
    "    return model"
   ]
  },
  {
   "cell_type": "code",
   "execution_count": 24,
   "metadata": {
    "scrolled": true
   },
   "outputs": [
    {
     "name": "stderr",
     "output_type": "stream",
     "text": [
      "2024-09-17 23:47:37.833048: E tensorflow/core/util/util.cc:131] oneDNN supports DT_BOOL only on platforms with AVX-512. Falling back to the default Eigen-based implementation if present.\n"
     ]
    },
    {
     "name": "stdout",
     "output_type": "stream",
     "text": [
      "CPU times: user 49.5 s, sys: 19.8 s, total: 1min 9s\n",
      "Wall time: 24.4 s\n"
     ]
    }
   ],
   "source": [
    "%%time\n",
    "\n",
    "model = initialize_model_RNN()\n",
    "\n",
    "from tensorflow.keras.callbacks import EarlyStopping\n",
    "es = EarlyStopping(patience = 5, restore_best_weights = True)\n",
    "\n",
    "history = model.fit(x=X_train_pad,\n",
    "                    y=y_train,\n",
    "                    batch_size=32,\n",
    "                    epochs=1000,\n",
    "                    verbose=0,\n",
    "                    callbacks=[es],\n",
    "                    validation_split=0.3)"
   ]
  },
  {
   "cell_type": "code",
   "execution_count": 25,
   "metadata": {},
   "outputs": [
    {
     "data": {
      "image/png": "[encoded data removed]",
      "text/plain": [
       "<Figure size 2000x700 with 2 Axes>"
      ]
     },
     "metadata": {},
     "output_type": "display_data"
    }
   ],
   "source": [
    "plot_loss_accuracy(history)"
   ]
  },
  {
   "cell_type": "markdown",
   "metadata": {
    "id": "kfxOOKRSR9zr"
   },
   "source": [
    "11 / Évaluez votre modèle de RNN sur les données de X_test et enregistrez la métrique dans RNN_metric."
   ]
  },
  {
   "cell_type": "code",
   "execution_count": 26,
   "metadata": {
    "colab": {
     "base_uri": "https://localhost:8080/"
    },
    "id": "874ZdUdDSG0f",
    "outputId": "f93c4a33-d4e0-44ef-eb0e-51c4a48c6f41"
   },
   "outputs": [
    {
     "data": {
      "text/plain": [
       "0.7913513779640198"
      ]
     },
     "execution_count": 26,
     "metadata": {},
     "output_type": "execute_result"
    }
   ],
   "source": [
    "res = model.evaluate(X_test_pad, y_test, verbose=0)\n",
    "RNN_metric = res[1]\n",
    "RNN_metric"
   ]
  },
  {
   "cell_type": "markdown",
   "metadata": {
    "id": "QXikBxLvLv1e"
   },
   "source": [
    "# Votre architecture de CNN"
   ]
  },
  {
   "cell_type": "markdown",
   "metadata": {
    "id": "wf_6ooOJSHLo"
   },
   "source": [
    "12 / Créez une architecture de CNN adaptée au texte pour accomplir cette tâche et entraînez le modèle. Veillez à prendre des mesures pour éviter l'overfitting."
   ]
  },
  {
   "cell_type": "code",
   "execution_count": 27,
   "metadata": {},
   "outputs": [],
   "source": [
    "from tensorflow.keras import layers, Sequential\n",
    "from tensorflow.keras.optimizers import Adam\n",
    "\n",
    "def initialize_model_CNN():\n",
    "    model = Sequential()\n",
    "    model.add(layers.Embedding( input_dim = vocab_size+1,\n",
    "                                output_dim = embedding_size,\n",
    "                                mask_zero=True,))\n",
    "    \n",
    "    model.add(layers.Conv1D(filters = 10,\n",
    "                            kernel_size = 15,\n",
    "                            padding='same',\n",
    "                            activation='relu',))\n",
    "    \n",
    "    model.add(layers.Conv1D(filters = 10,\n",
    "                        kernel_size = 10,\n",
    "                        padding='same',\n",
    "                        activation='relu',))\n",
    "    \n",
    "    model.add(layers.Flatten())\n",
    "    model.add(layers.Dense(units = 30, activation='relu'))\n",
    "    model.add(layers.Dropout(rate = 0.15))\n",
    "    model.add(layers.Dense(units = 1, activation='sigmoid'))\n",
    "    \n",
    "    # Compile\n",
    "    model.compile(loss='binary_crossentropy',\n",
    "                  optimizer='rmsprop',\n",
    "                  metrics=['accuracy'])\n",
    "    return model\n"
   ]
  },
  {
   "cell_type": "code",
   "execution_count": 28,
   "metadata": {
    "scrolled": true
   },
   "outputs": [
    {
     "name": "stderr",
     "output_type": "stream",
     "text": [
      "/home/thierry/.pyenv/versions/3.10.6/envs/lewagon/lib/python3.10/site-packages/keras/src/layers/layer.py:877: UserWarning: Layer 'conv1d' (of type Conv1D) was passed an input with a mask attached to it. However, this layer does not support masking and will therefore destroy the mask information. Downstream layers will not see the mask.\n",
      "  warnings.warn(\n"
     ]
    },
    {
     "name": "stdout",
     "output_type": "stream",
     "text": [
      "CPU times: user 11 s, sys: 4.97 s, total: 16 s\n",
      "Wall time: 6.95 s\n"
     ]
    }
   ],
   "source": [
    "%%time\n",
    "\n",
    "model = initialize_model_CNN()\n",
    "\n",
    "from tensorflow.keras.callbacks import EarlyStopping\n",
    "es = EarlyStopping(patience = 5, restore_best_weights = True)\n",
    "\n",
    "history = model.fit(x=X_train_pad,\n",
    "                    y=y_train,\n",
    "                    batch_size=32,\n",
    "                    epochs=1000,\n",
    "                    verbose=0,\n",
    "                    callbacks=[es],\n",
    "                    validation_split=0.3)"
   ]
  },
  {
   "cell_type": "code",
   "execution_count": 29,
   "metadata": {},
   "outputs": [
    {
     "data": {
      "image/png": "[encoded data removed]",
      "text/plain": [
       "<Figure size 2000x700 with 2 Axes>"
      ]
     },
     "metadata": {},
     "output_type": "display_data"
    }
   ],
   "source": [
    "plot_loss_accuracy(history)"
   ]
  },
  {
   "cell_type": "markdown",
   "metadata": {
    "id": "d9Q5a2IDSM8v"
   },
   "source": [
    "13 / Évaluez votre modèle de CNN sur les données de X_test et enregistrez la métrique dans CNN_metric."
   ]
  },
  {
   "cell_type": "code",
   "execution_count": 30,
   "metadata": {
    "colab": {
     "base_uri": "https://localhost:8080/"
    },
    "id": "874ZdUdDSG0f",
    "outputId": "f93c4a33-d4e0-44ef-eb0e-51c4a48c6f41"
   },
   "outputs": [
    {
     "data": {
      "text/plain": [
       "0.7908108234405518"
      ]
     },
     "execution_count": 30,
     "metadata": {},
     "output_type": "execute_result"
    }
   ],
   "source": [
    "res = model.evaluate(X_test_pad, y_test, verbose=0)\n",
    "CNN_metric = res[1]\n",
    "CNN_metric"
   ]
  },
  {
   "cell_type": "markdown",
   "metadata": {
    "id": "cofDxGmlL0r9"
   },
   "source": [
    "# Conclusion"
   ]
  },
  {
   "cell_type": "markdown",
   "metadata": {
    "id": "o6m-kCrwSXYy"
   },
   "source": [
    "14 / Avez-vous battu votre baseline avec au moins un des modèles ?"
   ]
  },
  {
   "cell_type": "markdown",
   "metadata": {
    "id": "pRxvY-vUBSFx"
   },
   "source": [
    "*Répondez ici. Si oui, avec quel(s) modèles(s)?*\n",
    "\n"
   ]
  },
  {
   "cell_type": "markdown",
   "metadata": {},
   "source": [
    "Answer : Both RNN and CNN models beat the baseline model.\n"
   ]
  },
  {
   "cell_type": "code",
   "execution_count": 31,
   "metadata": {
    "scrolled": true
   },
   "outputs": [
    {
     "data": {
      "text/html": [
       "<div>\n",
       "<style scoped>\n",
       "    .dataframe tbody tr th:only-of-type {\n",
       "        vertical-align: middle;\n",
       "    }\n",
       "\n",
       "    .dataframe tbody tr th {\n",
       "        vertical-align: top;\n",
       "    }\n",
       "\n",
       "    .dataframe thead th {\n",
       "        text-align: right;\n",
       "    }\n",
       "</style>\n",
       "<table border=\"1\" class=\"dataframe\">\n",
       "  <thead>\n",
       "    <tr style=\"text-align: right;\">\n",
       "      <th></th>\n",
       "      <th>model</th>\n",
       "      <th>accuracy</th>\n",
       "    </tr>\n",
       "  </thead>\n",
       "  <tbody>\n",
       "    <tr>\n",
       "      <th>1</th>\n",
       "      <td>RNN</td>\n",
       "      <td>0.791351</td>\n",
       "    </tr>\n",
       "    <tr>\n",
       "      <th>2</th>\n",
       "      <td>CNN</td>\n",
       "      <td>0.790811</td>\n",
       "    </tr>\n",
       "    <tr>\n",
       "      <th>0</th>\n",
       "      <td>NB (baseline)</td>\n",
       "      <td>0.776905</td>\n",
       "    </tr>\n",
       "  </tbody>\n",
       "</table>\n",
       "</div>"
      ],
      "text/plain": [
       "           model  accuracy\n",
       "1            RNN  0.791351\n",
       "2            CNN  0.790811\n",
       "0  NB (baseline)  0.776905"
      ]
     },
     "execution_count": 31,
     "metadata": {},
     "output_type": "execute_result"
    }
   ],
   "source": [
    "metrics = {'model' : ['NB (baseline)','RNN','CNN'],     \n",
    "       'accuracy' : [NB_metric, RNN_metric, CNN_metric]}\n",
    "\n",
    "metrics = pd.DataFrame(metrics).sort_values(by = 'accuracy', ascending=False)\n",
    "metrics"
   ]
  },
  {
   "cell_type": "markdown",
   "metadata": {},
   "source": [
    "# Save the trained models (Bonus Thierry)\n",
    "\n"
   ]
  },
  {
   "cell_type": "code",
   "execution_count": 32,
   "metadata": {
    "scrolled": true
   },
   "outputs": [
    {
     "name": "stderr",
     "output_type": "stream",
     "text": [
      "/home/thierry/.pyenv/versions/3.10.6/envs/lewagon/lib/python3.10/site-packages/keras/src/layers/layer.py:877: UserWarning: Layer 'conv1d' (of type Conv1D) was passed an input with a mask attached to it. However, this layer does not support masking and will therefore destroy the mask information. Downstream layers will not see the mask.\n",
      "  warnings.warn(\n"
     ]
    },
    {
     "data": {
      "text/plain": [
       "[<Embedding name=embedding_1, built=True>,\n",
       " <Conv1D name=conv1d, built=True>,\n",
       " <Conv1D name=conv1d_1, built=True>,\n",
       " <Flatten name=flatten, built=True>,\n",
       " <Dense name=dense_2, built=True>,\n",
       " <Dropout name=dropout, built=True>,\n",
       " <Dense name=dense_3, built=True>]"
      ]
     },
     "execution_count": 32,
     "metadata": {},
     "output_type": "execute_result"
    }
   ],
   "source": [
    "import os\n",
    "import time\n",
    "from tensorflow.keras import models\n",
    "\n",
    "timestamp = time.strftime(\"%Y%m%d_%H%M%S\")\n",
    "\n",
    "path = '../data/trained_models/'\n",
    "model.save(path + 'CNN_model.keras')\n",
    "\n",
    "# # and you can load it somewhere else:\n",
    "loaded_model = models.load_model(path + 'CNN_model.keras')\n",
    "loaded_model.layers\n"
   ]
  },
  {
   "cell_type": "code",
   "execution_count": 67,
   "metadata": {},
   "outputs": [
    {
     "name": "stdout",
     "output_type": "stream",
     "text": [
      "\u001b[1m58/58\u001b[0m \u001b[32m━━━━━━━━━━━━━━━━━━━━\u001b[0m\u001b[37m\u001b[0m \u001b[1m0s\u001b[0m 2ms/step\n"
     ]
    },
    {
     "data": {
      "text/plain": [
       "numpy.ndarray"
      ]
     },
     "execution_count": 67,
     "metadata": {},
     "output_type": "execute_result"
    }
   ],
   "source": [
    "result = model.predict(X_test_pad)\n"
   ]
  },
  {
   "cell_type": "code",
   "execution_count": 59,
   "metadata": {},
   "outputs": [
    {
     "name": "stdout",
     "output_type": "stream",
     "text": [
      "CAREFULLY TREES ART THE YOUR LIVING IS QUITE GOOD FOR THE PRICE. SATISFIED WITH WHAT I GOT.\n",
      "[0.6861204]\n"
     ]
    }
   ],
   "source": [
    "num  = 200\n",
    "print(X_test['ReviewText'].iloc[num])\n",
    "print(result[num])"
   ]
  },
  {
   "cell_type": "code",
   "execution_count": null,
   "metadata": {},
   "outputs": [],
   "source": [
    "import pickle\n",
    "\n",
    "# Export Pipeline as pickle file\n",
    "with open(\"tokenizer.pkl\", \"wb\") as file:\n",
    "    pickle.dump(tk, file)\n",
    "\n",
    "# Load Pipeline from pickle file\n",
    "my_tokenizer = pickle.load(open(\"tokenizer.pkl\",\"rb\"))"
   ]
  },
  {
   "cell_type": "markdown",
   "metadata": {
    "id": "yqPnwEyARGRe"
   },
   "source": [
    "# API"
   ]
  },
  {
   "cell_type": "markdown",
   "metadata": {
    "id": "P1StCSVdRIH6"
   },
   "source": [
    "15 / Vous souhaitez permettre à votre collègue aux États-Unis d'utiliser votre modèle pour faire des prédictions. Écrivez ci-dessous le script Python pour une API qui permettra d'effectuer des prédictions à l'aide de votre modèle.\n",
    "\n",
    "N'oubliez pas de documenter votre code : étapes, types de données, méthodes, etc."
   ]
  },
  {
   "cell_type": "code",
   "execution_count": 34,
   "metadata": {
    "colab": {
     "base_uri": "https://localhost:8080/",
     "height": 220
    },
    "id": "TECemMANRHXT",
    "outputId": "45c9e981-6fc7-4996-d42a-b148585d9161"
   },
   "outputs": [
    {
     "ename": "NameError",
     "evalue": "name 'app' is not defined",
     "output_type": "error",
     "traceback": [
      "\u001b[0;31m---------------------------------------------------------------------------\u001b[0m",
      "\u001b[0;31mNameError\u001b[0m                                 Traceback (most recent call last)",
      "Cell \u001b[0;32mIn [34], line 7\u001b[0m\n\u001b[1;32m      1\u001b[0m \u001b[38;5;66;03m# file api.py\u001b[39;00m\n\u001b[1;32m      2\u001b[0m \u001b[38;5;66;03m# Assumption : use of FastAPI\u001b[39;00m\n\u001b[1;32m      3\u001b[0m \u001b[38;5;66;03m# US colleague will upload the data X_new to the API thanks to api.py post method\u001b[39;00m\n\u001b[1;32m      4\u001b[0m \u001b[38;5;66;03m# The function predict() will take the X_new data, preprocess it, then use the predict method of the fitted model.\u001b[39;00m\n\u001b[1;32m      5\u001b[0m \u001b[38;5;66;03m# Create_upload_files() method will send back the prediction\u001b[39;00m\n\u001b[0;32m----> 7\u001b[0m \u001b[38;5;129m@app\u001b[39m\u001b[38;5;241m.\u001b[39mpost(\u001b[38;5;124m\"\u001b[39m\u001b[38;5;124m/upload_data_and_predict_\u001b[39m\u001b[38;5;124m\"\u001b[39m)\n\u001b[1;32m      8\u001b[0m \u001b[38;5;28;01mdef\u001b[39;00m \u001b[38;5;21mcreate_upload_files\u001b[39m(upload_file: UploadFile \u001b[38;5;241m=\u001b[39m File(\u001b[38;5;241m.\u001b[39m\u001b[38;5;241m.\u001b[39m\u001b[38;5;241m.\u001b[39m)):\n\u001b[1;32m      9\u001b[0m     json_data \u001b[38;5;241m=\u001b[39m json\u001b[38;5;241m.\u001b[39mload(upload_file\u001b[38;5;241m.\u001b[39mfile)\n\u001b[1;32m     10\u001b[0m     X_pred \u001b[38;5;241m=\u001b[39m pd\u001b[38;5;241m.\u001b[39mDataFrame(json_data)\n",
      "\u001b[0;31mNameError\u001b[0m: name 'app' is not defined"
     ]
    }
   ],
   "source": [
    "# file api.py\n",
    "# Assumption : use of FastAPI\n",
    "# US colleague will upload the data X_new to the API thanks to api.py post method\n",
    "# The function predict() will take the X_new data, preprocess it, then use the predict method of the fitted model.\n",
    "# Create_upload_files() method will send back the prediction\n",
    "\n",
    "@app.post(\"/upload_data_and_predict_\")\n",
    "def create_upload_files(upload_file: UploadFile = File(...)):\n",
    "    json_data = json.load(upload_file.file)\n",
    "    X_pred = pd.DataFrame(json_data)\n",
    "    response = predict(X_pred)\n",
    "    return {'Prediction' : response}\n",
    "\n",
    "\n",
    "# predict.py\n",
    "# Assumption : the model is already fitted and uploaded on cloud.\n",
    "def predict(input: dataframe):\n",
    "  X_new = preprocess(input)\n",
    "  y_new = model.predict(X_new)\n",
    "  return y_new\n",
    "\n",
    "\n",
    "# The US colleague will connect to the API or application thanks to an URL that will be provided to him.\n",
    "# He will upload an X input (review from customer) thanks to the API.\n",
    "# The API will return a new corresponding target y."
   ]
  },
  {
   "cell_type": "markdown",
   "metadata": {
    "id": "moU_0LrNTPzb"
   },
   "source": [
    "16 / Quelles sont les différentes étapes et commandes à effectuer dans le terminal pour déployer un modèle ?"
   ]
  },
  {
   "cell_type": "code",
   "execution_count": null,
   "metadata": {
    "id": "tVH14tU9FQJD"
   },
   "outputs": [],
   "source": [
    "We will use Docker to deploy the model.\n",
    "1. We'll build the API image locally. We'll run it.\n",
    "\n",
    "=> docker build --tag=$GAR_IMAGE:dev .\n",
    "=> docker run -e PORT=8000 -p 8000:8000 --env-file .env $GAR_IMAGE:dev\n",
    "\n",
    "2. If local API image is running without issue, we'll build the final image to push to Google Artifact Registry. We'll run it to check everything's is ok locally (no issue).\n",
    "\n",
    "=> docker build -t  $GCP_REGION-docker.pkg.dev/$GCP_PROJECT/hr-data-repo/$GAR_IMAGE:prod .\n",
    "=> docker run -e PORT=8000 -p 8000:8000 --env-file .env $GCP_REGION-docker.pkg.dev/$GCP_PROJECT/data-repo/$GAR_IMAGE:prod\n",
    "\n",
    "3. We'll push the dedicated image to Google Artifact registry.\n",
    "=> docker push $GCP_REGION-docker.pkg.dev/$GCP_PROJECT/data-repo/$GAR_IMAGE:prod\n",
    "\n",
    "4. We'll deploy the API from GAR.\n",
    "=> gcloud run deploy --image $GCP_REGION-docker.pkg.dev/$GCP_PROJECT/data-repo/$GAR_IMAGE:prod --memory $GAR_MEMORY --region $GCP_REGION --env-vars-file .env.yaml\n",
    "\n",
    "5. Finally, we retrieve the service URL to share it with US colleagues."
   ]
  },
  {
   "cell_type": "markdown",
   "metadata": {
    "id": "ekcjCAw8R4Rk"
   },
   "source": [
    "17 / Quels sont les différents éléments sur lesquels vous pouvez évaluer et optimiser la performance de votre API ?"
   ]
  },
  {
   "cell_type": "markdown",
   "metadata": {
    "id": "bhurPpMxSKbn"
   },
   "source": [
    "*Répondez ici*"
   ]
  },
  {
   "cell_type": "markdown",
   "metadata": {
    "id": "OKWfdospSwy2"
   },
   "source": [
    "18 / Parmi les options suivantes, laquelle n'est pas un enjeu pour le bon déploiement d'un modèle ?\n",
    "\n",
    "Options :\n",
    "\n",
    "- L'éthique\n",
    "- La confidentialité\n",
    "- La taille du modèle\n",
    "- La sécurité"
   ]
  },
  {
   "cell_type": "markdown",
   "metadata": {
    "id": "WFtSUrIReIHx"
   },
   "source": [
    "*Répondez ici*"
   ]
  },
  {
   "cell_type": "markdown",
   "metadata": {
    "id": "LFn9VmcKTmby"
   },
   "source": [
    "19 / Quelles mesures pouvez-vous mettre en place pour répondre efficacement à ces enjeux lors du déploiement d'un modèle ?"
   ]
  },
  {
   "cell_type": "markdown",
   "metadata": {
    "id": "aOoXLrIoTyhm"
   },
   "source": [
    "*Répondez ici*\n",
    "\n"
   ]
  }
 ],
 "metadata": {
  "colab": {
   "provenance": []
  },
  "kernelspec": {
   "display_name": "Python 3 (ipykernel)",
   "language": "python",
   "name": "python3"
  },
  "language_info": {
   "codemirror_mode": {
    "name": "ipython",
    "version": 3
   },
   "file_extension": ".py",
   "mimetype": "text/x-python",
   "name": "python",
   "nbconvert_exporter": "python",
   "pygments_lexer": "ipython3",
   "version": "3.10.6"
  },
  "toc": {
   "base_numbering": 1,
   "nav_menu": {},
   "number_sections": true,
   "sideBar": true,
   "skip_h1_title": false,
   "title_cell": "Table of Contents",
   "title_sidebar": "Contents",
   "toc_cell": false,
   "toc_position": {
    "height": "calc(100% - 180px)",
    "left": "10px",
    "top": "150px",
    "width": "383.997px"
   },
   "toc_section_display": true,
   "toc_window_display": true
  },
  "varInspector": {
   "cols": {
    "lenName": 16,
    "lenType": 16,
    "lenVar": 40
   },
   "kernels_config": {
    "python": {
     "delete_cmd_postfix": "",
     "delete_cmd_prefix": "del ",
     "library": "var_list.py",
     "varRefreshCmd": "print(var_dic_list())"
    },
    "r": {
     "delete_cmd_postfix": ") ",
     "delete_cmd_prefix": "rm(",
     "library": "var_list.r",
     "varRefreshCmd": "cat(var_dic_list()) "
    }
   },
   "types_to_exclude": [
    "module",
    "function",
    "builtin_function_or_method",
    "instance",
    "_Feature"
   ],
   "window_display": false
  }
 },
 "nbformat": 4,
 "nbformat_minor": 1
}
